{
 "cells": [
  {
   "metadata": {},
   "cell_type": "markdown",
   "source": "Print something to show notebook is working.",
   "id": "c9d9cc7bdb7152f"
  },
  {
   "metadata": {
    "ExecuteTime": {
     "end_time": "2025-05-26T04:30:24.579673Z",
     "start_time": "2025-05-26T04:30:24.573069Z"
    }
   },
   "cell_type": "code",
   "source": "print(\"hello\")",
   "id": "initial_id",
   "outputs": [
    {
     "name": "stdout",
     "output_type": "stream",
     "text": [
      "hello\n"
     ]
    }
   ],
   "execution_count": 17
  },
  {
   "metadata": {},
   "cell_type": "markdown",
   "source": "Create a variable.",
   "id": "85b58aed9ea495df"
  },
  {
   "metadata": {
    "ExecuteTime": {
     "end_time": "2025-05-26T04:30:24.677404Z",
     "start_time": "2025-05-26T04:30:24.670978Z"
    }
   },
   "cell_type": "code",
   "source": [
    "my_variable = \"hello\"\n",
    "print(my_variable)"
   ],
   "id": "a12c33f137ec76d6",
   "outputs": [
    {
     "name": "stdout",
     "output_type": "stream",
     "text": [
      "hello\n"
     ]
    }
   ],
   "execution_count": 18
  },
  {
   "metadata": {},
   "cell_type": "markdown",
   "source": "Access a previously created variable.",
   "id": "8606c9d6c2ed1385"
  },
  {
   "metadata": {
    "ExecuteTime": {
     "end_time": "2025-05-26T04:30:24.770845Z",
     "start_time": "2025-05-26T04:30:24.762673Z"
    }
   },
   "cell_type": "code",
   "source": "print(f\"{my_variable}, world\")",
   "id": "e8a1998dfcfe0b30",
   "outputs": [
    {
     "name": "stdout",
     "output_type": "stream",
     "text": [
      "hello, world\n"
     ]
    }
   ],
   "execution_count": 19
  }
 ],
 "metadata": {
  "kernelspec": {
   "display_name": "Python 3",
   "language": "python",
   "name": "python3"
  },
  "language_info": {
   "codemirror_mode": {
    "name": "ipython",
    "version": 2
   },
   "file_extension": ".py",
   "mimetype": "text/x-python",
   "name": "python",
   "nbconvert_exporter": "python",
   "pygments_lexer": "ipython2",
   "version": "2.7.6"
  }
 },
 "nbformat": 4,
 "nbformat_minor": 5
}
